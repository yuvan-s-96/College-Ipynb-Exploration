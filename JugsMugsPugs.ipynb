{
  "nbformat": 4,
  "nbformat_minor": 0,
  "metadata": {
    "colab": {
      "provenance": [],
      "authorship_tag": "ABX9TyMDVIbOom8Xu4CUEGlRAAro"
    },
    "kernelspec": {
      "name": "python3",
      "display_name": "Python 3"
    },
    "language_info": {
      "name": "python"
    }
  },
  "cells": [
    {
      "cell_type": "code",
      "execution_count": null,
      "metadata": {
        "colab": {
          "base_uri": "https://localhost:8080/"
        },
        "id": "h-JAfb7jS2Fj",
        "outputId": "f8bdecf3-3bec-48a7-ec00-043a891403b8"
      },
      "outputs": [
        {
          "output_type": "stream",
          "name": "stdout",
          "text": [
            "33\n",
            "Jugs\n"
          ]
        }
      ],
      "source": [
        "def JugsMugsPugs(num):\n",
        "  a=num\n",
        "  digit=int(num)\n",
        "  if (digit%3==0)or(digit%5==0)or(digit%7==0)or('3'in num)or('5'in num)or('7'in num):\n",
        "    a=\"\"\n",
        "    if (digit%3==0)or('3'in num):\n",
        "      a=a+\"Jugs\"\n",
        "    if (digit%5==0) or ('5' in num):\n",
        "      a = a+\"Mugs\"\n",
        "    if (digit%7==0) or ('7' in num) :\n",
        "      a =a+\"Pugs\"\n",
        "    print(a)\n",
        "  else:\n",
        "    return int(a)\n",
        "num=input()\n",
        "JugsMugsPugs(num)"
      ]
    },
    {
      "cell_type": "code",
      "source": [
        "def jugs_mugs_pugs(num, rev):\n",
        "    for i in range(1, num + 1):\n",
        "        if rev:\n",
        "            string = 'Jugs' * bool(i % 3 == 0 or '3' in str(i))\n",
        "            string = 'Mugs' * bool(i % 5 == 0 or '5' in str(i)) + string\n",
        "            string = 'Pugs' * bool(i % 7 == 0 or '7' in str(i)) + string\n",
        "            print(string or i)\n",
        "        else:\n",
        "            print(\"Jugs\" * (i % 3 == 0 or '3' in str(i)) + \"Mugs\" * (i % 5 == 0 or '5' in str(i)) +\n",
        "                  \"Pugs\" * (i % 7 == 0 or '7' in str(i)) or i)\n",
        "\n",
        "# Example usage\n",
        "num_input = int(input(\"Enter a number: \"))\n",
        "rev_input = int(input(\"Enter 1 for reverse order, 0 for normal order: \"))\n",
        "jugs_mugs_pugs(num_input, rev_input)\n"
      ],
      "metadata": {
        "colab": {
          "base_uri": "https://localhost:8080/"
        },
        "id": "FmQDasr4cuZM",
        "outputId": "16870530-78ce-4022-a7e7-dd3b425053b8"
      },
      "execution_count": null,
      "outputs": [
        {
          "output_type": "stream",
          "name": "stdout",
          "text": [
            "Enter a number: 15\n",
            "Enter 1 for reverse order, 0 for normal order: 1\n",
            "1\n",
            "2\n",
            "Jugs\n",
            "4\n",
            "Mugs\n",
            "Jugs\n",
            "Pugs\n",
            "8\n",
            "Jugs\n",
            "Mugs\n",
            "11\n",
            "Jugs\n",
            "Jugs\n",
            "Pugs\n",
            "MugsJugs\n"
          ]
        }
      ]
    },
    {
      "cell_type": "code",
      "source": [],
      "metadata": {
        "id": "K7rV_Jh7eAuh"
      },
      "execution_count": null,
      "outputs": []
    }
  ]
}