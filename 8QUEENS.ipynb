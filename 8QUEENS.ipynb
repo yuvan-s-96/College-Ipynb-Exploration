{
  "nbformat": 4,
  "nbformat_minor": 0,
  "metadata": {
    "colab": {
      "provenance": [],
      "authorship_tag": "ABX9TyOv33T6fy1dhzvPEP7wazuF"
    },
    "kernelspec": {
      "name": "python3",
      "display_name": "Python 3"
    },
    "language_info": {
      "name": "python"
    }
  },
  "cells": [
    {
      "cell_type": "code",
      "execution_count": null,
      "metadata": {
        "colab": {
          "base_uri": "https://localhost:8080/"
        },
        "id": "pkP3uCVbgxWd",
        "outputId": "adc63c58-0c31-4013-999e-25edcea49ed1"
      },
      "outputs": [
        {
          "output_type": "stream",
          "name": "stdout",
          "text": [
            "Enter the number of queens:8\n",
            "[1, 0, 0, 0, 0, 0, 0, 0]\n",
            "[0, 0, 0, 0, 1, 0, 0, 0]\n",
            "[0, 0, 0, 0, 0, 0, 0, 1]\n",
            "[0, 0, 0, 0, 0, 1, 0, 0]\n",
            "[0, 0, 1, 0, 0, 0, 0, 0]\n",
            "[0, 0, 0, 0, 0, 0, 1, 0]\n",
            "[0, 1, 0, 0, 0, 0, 0, 0]\n",
            "[0, 0, 0, 1, 0, 0, 0, 0]\n"
          ]
        }
      ],
      "source": [
        "N = int(input(\"Enter the number of queens:\"))\n",
        "# here we create a chessboard\n",
        "# NxN matrix with all elements set to 0\n",
        "board = [[0]*N for _ in range(N)]\n",
        "def attack(i, j):\n",
        "    #checking vertically and horizontally\n",
        "    for k in range(0,N):\n",
        "        if board[i][k]==1 or board[k][j]==1:\n",
        "            return True\n",
        "    #checking diagonally\n",
        "    for k in range(0,N):\n",
        "        for l in range(0,N):\n",
        "            if (k+l==i+j) or (k-l==i-j):\n",
        "                if board[k][l]==1:\n",
        "                    return True\n",
        "    return False\n",
        "def N_queens(n):\n",
        "    if n==0:\n",
        "        return True\n",
        "    for i in range(0,N):\n",
        "        for j in range(0,N):\n",
        "            if (not(attack(i,j))) and (board[i][j]!=1):\n",
        "                board[i][j] = 1\n",
        "                if N_queens(n-1)==True:\n",
        "                    return True\n",
        "                board[i][j] = 0\n",
        "    return False\n",
        "N_queens(N)\n",
        "for i in board:\n",
        "    print (i)"
      ]
    }
  ]
}