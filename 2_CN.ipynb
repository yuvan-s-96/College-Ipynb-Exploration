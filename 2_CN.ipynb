{
  "nbformat": 4,
  "nbformat_minor": 0,
  "metadata": {
    "colab": {
      "provenance": [],
      "authorship_tag": "ABX9TyPEmp9EgZX8wgsFVI57sHL5"
    },
    "kernelspec": {
      "name": "python3",
      "display_name": "Python 3"
    },
    "language_info": {
      "name": "python"
    }
  },
  "cells": [
    {
      "cell_type": "code",
      "execution_count": null,
      "metadata": {
        "colab": {
          "base_uri": "https://localhost:8080/"
        },
        "id": "9hJa3dEGDix5",
        "outputId": "d7d7d3f6-c3aa-40fb-c772-3336709f9c19"
      },
      "outputs": [
        {
          "output_type": "stream",
          "name": "stdout",
          "text": [
            "Socket successfully created\n",
            "the socket has successfully connected to google\n"
          ]
        }
      ],
      "source": [
        "# An example script to connect to Google using socket\n",
        "# programming in Python\n",
        "import socket # for socket\n",
        "import sys\n",
        "\n",
        "try:\n",
        "\ts = socket.socket(socket.AF_INET, socket.SOCK_STREAM)\n",
        "\tprint (\"Socket successfully created\")\n",
        "except socket.error as err:\n",
        "\tprint (\"socket creation failed with error %s\" %(err))\n",
        "\n",
        "# default port for socket\n",
        "port = 80\n",
        "\n",
        "try:\n",
        "\thost_ip = socket.gethostbyname('www.google.com')\n",
        "except socket.gaierror:\n",
        "\n",
        "\t# this means could not resolve the host\n",
        "\tprint (\"there was an error resolving the host\")\n",
        "\tsys.exit()\n",
        "\n",
        "# connecting to the server\n",
        "s.connect((host_ip, port))\n",
        "\n",
        "print (\"the socket has successfully connected to google\")\n"
      ]
    },
    {
      "cell_type": "code",
      "source": [],
      "metadata": {
        "id": "c9vVoIzVE_hR"
      },
      "execution_count": null,
      "outputs": []
    }
  ]
}