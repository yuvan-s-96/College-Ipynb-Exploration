{
  "nbformat": 4,
  "nbformat_minor": 0,
  "metadata": {
    "colab": {
      "provenance": [],
      "authorship_tag": "ABX9TyPa+TN7jutibGRrAIHJGogb"
    },
    "kernelspec": {
      "name": "python3",
      "display_name": "Python 3"
    },
    "language_info": {
      "name": "python"
    }
  },
  "cells": [
    {
      "cell_type": "code",
      "execution_count": null,
      "metadata": {
        "id": "y5rWv4qHPVU3"
      },
      "outputs": [],
      "source": [
        "import numpy as np\n",
        "import pandas as pd\n",
        "from sklearn.neighbors import KNeighborsClassifier\n",
        "from sklearn.model_selection import train_test_split\n",
        "from sklearn import metrics\n",
        "from sklearn.datasets import load_iris"
      ]
    },
    {
      "cell_type": "code",
      "source": [
        "dataset=load_iris()"
      ],
      "metadata": {
        "id": "NAAtYmI5Pbim"
      },
      "execution_count": null,
      "outputs": []
    },
    {
      "cell_type": "code",
      "source": [
        "X=pd.DataFrame(dataset.data)\n",
        "X.columns=['Sepal_Length','Sepal_Width','Petal_Length','Petal_Width']\n",
        "y=pd.DataFrame(dataset.target)\n",
        "y.columns=['Targets']"
      ],
      "metadata": {
        "id": "opRHWQk8PhwV"
      },
      "execution_count": null,
      "outputs": []
    },
    {
      "cell_type": "code",
      "source": [
        "Xtrain, Xtest, ytrain, ytest = train_test_split(X, y, test_size=0.10)"
      ],
      "metadata": {
        "id": "2TuxrdxyPo63"
      },
      "execution_count": null,
      "outputs": []
    },
    {
      "cell_type": "code",
      "source": [
        "classifier = KNeighborsClassifier(n_neighbors=5).fit(Xtrain, ytrain)\n",
        "\n",
        "ypred = classifier.predict(Xtest)"
      ],
      "metadata": {
        "colab": {
          "base_uri": "https://localhost:8080/"
        },
        "id": "H4ztJAHMP8jd",
        "outputId": "12ee41cc-a99c-440d-ec8a-bdc45725188b"
      },
      "execution_count": null,
      "outputs": [
        {
          "output_type": "stream",
          "name": "stderr",
          "text": [
            "/usr/local/lib/python3.9/dist-packages/sklearn/neighbors/_classification.py:215: DataConversionWarning: A column-vector y was passed when a 1d array was expected. Please change the shape of y to (n_samples,), for example using ravel().\n",
            "  return self._fit(X, y)\n"
          ]
        }
      ]
    },
    {
      "cell_type": "code",
      "source": [
        "i = 0\n",
        "print (\"\\n-------------------------------------------------------------------------\")\n",
        "print ('%-25s %-25s %-25s' % ('Original Label', 'Predicted Label', 'Correct/Wrong'))\n",
        "print (\"-------------------------------------------------------------------------\")\n",
        "for label in ytest:\n",
        "    print ('%-25s %-25s' % (label, ypred[i]), end=\"\")\n",
        "    if (label == ypred[i]):\n",
        "        print (' %-25s' % ('Correct'))\n",
        "    else:\n",
        "        print (' %-25s' % ('Wrong'))\n",
        "    i = i + 1\n",
        "print (\"-------------------------------------------------------------------------\")\n",
        "print(\"\\nConfusion Matrix:\\n\",metrics.confusion_matrix(ytest, ypred))\n",
        "print (\"-------------------------------------------------------------------------\")\n",
        "print(\"\\nClassification Report:\\n\",metrics.classification_report(ytest, ypred))\n",
        "print (\"-------------------------------------------------------------------------\")\n",
        "print('Accuracy of the classifer is %0.2f' % metrics.accuracy_score(ytest,ypred))\n",
        "print (\"-------------------------------------------------------------------------\")"
      ],
      "metadata": {
        "colab": {
          "base_uri": "https://localhost:8080/"
        },
        "id": "zcKWYbpGP_YR",
        "outputId": "65d5ef5f-0283-400a-a442-08a185b31b6a"
      },
      "execution_count": null,
      "outputs": [
        {
          "output_type": "stream",
          "name": "stdout",
          "text": [
            "\n",
            "-------------------------------------------------------------------------\n",
            "Original Label            Predicted Label           Correct/Wrong            \n",
            "-------------------------------------------------------------------------\n",
            "Targets                   0                         Wrong                    \n",
            "-------------------------------------------------------------------------\n",
            "\n",
            "Confusion Matrix:\n",
            " [[7 0 0]\n",
            " [0 3 1]\n",
            " [0 0 4]]\n",
            "-------------------------------------------------------------------------\n",
            "\n",
            "Classification Report:\n",
            "               precision    recall  f1-score   support\n",
            "\n",
            "           0       1.00      1.00      1.00         7\n",
            "           1       1.00      0.75      0.86         4\n",
            "           2       0.80      1.00      0.89         4\n",
            "\n",
            "    accuracy                           0.93        15\n",
            "   macro avg       0.93      0.92      0.92        15\n",
            "weighted avg       0.95      0.93      0.93        15\n",
            "\n",
            "-------------------------------------------------------------------------\n",
            "Accuracy of the classifer is 0.93\n",
            "-------------------------------------------------------------------------\n"
          ]
        }
      ]
    },
    {
      "cell_type": "code",
      "source": [],
      "metadata": {
        "id": "yeyep12gQEZn"
      },
      "execution_count": null,
      "outputs": []
    }
  ]
}