{
  "nbformat": 4,
  "nbformat_minor": 0,
  "metadata": {
    "colab": {
      "provenance": [],
      "authorship_tag": "ABX9TyP+uFn5txltfFMmzkT2qk7B"
    },
    "kernelspec": {
      "name": "python3",
      "display_name": "Python 3"
    },
    "language_info": {
      "name": "python"
    }
  },
  "cells": [
    {
      "cell_type": "code",
      "execution_count": null,
      "metadata": {
        "id": "1L2rJsY0BhG8"
      },
      "outputs": [],
      "source": [
        "import numpy as np\n",
        "import pandas as pd"
      ]
    },
    {
      "cell_type": "code",
      "source": [
        "data = pd.DataFrame(data=pd.read_csv('/content/candidate elimination.csv'))"
      ],
      "metadata": {
        "id": "4WfgTnDpBolx"
      },
      "execution_count": null,
      "outputs": []
    },
    {
      "cell_type": "code",
      "source": [
        "concepts = np.array(data.iloc[:,0:-1])\n",
        "print(\"The features:\",concepts)"
      ],
      "metadata": {
        "colab": {
          "base_uri": "https://localhost:8080/"
        },
        "id": "7ur8d8e5C77z",
        "outputId": "25bb4e93-3fd9-4fef-c097-95d618601625"
      },
      "execution_count": null,
      "outputs": [
        {
          "output_type": "stream",
          "name": "stdout",
          "text": [
            "The features: [['Sunny' 'Warm' 'Normal' 'Strong' 'Warm' 'Same' 'Y']\n",
            " ['Sunny' 'Warm' 'High' 'Strong' 'Warm' 'Same' 'Y']\n",
            " ['Rainy' 'Cold' 'High' 'Strong' 'Warm' 'Change' 'N']\n",
            " ['Sunny' 'Warm' 'High' 'Strong' 'Cool' 'Change' 'Y']]\n"
          ]
        }
      ]
    },
    {
      "cell_type": "code",
      "source": [
        "target = np.array(data.iloc[:,-2])\n",
        "print(target)\n"
      ],
      "metadata": {
        "colab": {
          "base_uri": "https://localhost:8080/"
        },
        "id": "uUFLipjgErCq",
        "outputId": "ca8225fb-1d10-4553-ac7c-36a52c030f96"
      },
      "execution_count": null,
      "outputs": [
        {
          "output_type": "stream",
          "name": "stdout",
          "text": [
            "['Y' 'Y' 'N' 'Y']\n"
          ]
        }
      ]
    },
    {
      "cell_type": "code",
      "source": [
        "def learn(concepts, target):\n",
        "\tspecific_h = concepts[0].copy()\n",
        "\tprint(\"initialization of specific_h and general_h\")\n",
        "\tprint(\"Specific\",specific_h)\n",
        "\tgeneral_h = [[\"?\" for i in range(len(specific_h))] for i in range(len(specific_h))]\n",
        "\tprint(\"General\",general_h)\n",
        "\tfor i, h in enumerate(concepts):\n",
        "\t\tif target[i] == \"Y\":\n",
        "\t\t\tfor x in range(len(specific_h)):\n",
        "\t\t\t\tif h[x]!= specific_h[x]:\n",
        "\t\t\t\t\tspecific_h[x] ='?'\n",
        "\t\t\t\t\tgeneral_h[x][x] ='?'\n",
        "\n",
        "\t\tprint(\"Specific\",specific_h)\n",
        "\t\tif target[i] == \"N\":\n",
        "\t\t\tfor x in range(len(specific_h)):\n",
        "\t\t\t\tif h[x]!= specific_h[x]:\n",
        "\t\t\t\t\tgeneral_h[x][x] = specific_h[x]\n",
        "\t\t\t\telse:\n",
        "\t\t\t\t\tgeneral_h[x][x] = '?'\n",
        "\t\tprint(\" steps of Candidate Elimination Algorithm\",i+1)\n",
        "\t\tprint(\"Specific\",specific_h)\n",
        "\t\tprint(\"General\",general_h)\n",
        "\tindices = [i for i, val in enumerate(general_h) if val == ['?', '?', '?','?','?','?']]\n",
        "\tfor i in indices:\n",
        "\t\tgeneral_h.remove(['?', '?', '?','?','?','?'])\n",
        "\treturn specific_h, general_h\n",
        "s_final, g_final = learn(concepts, target)\n",
        "print(\"Final Specific_h:\", s_final, sep=\"\\n\")\n",
        "print(\"Final General_h:\", g_final, sep=\"\\n\")\n",
        "\n"
      ],
      "metadata": {
        "colab": {
          "base_uri": "https://localhost:8080/"
        },
        "id": "My1zP1xjICyK",
        "outputId": "eea2d6f5-92e5-4588-f0af-8e713f7fa12f"
      },
      "execution_count": null,
      "outputs": [
        {
          "output_type": "stream",
          "name": "stdout",
          "text": [
            "initialization of specific_h and general_h\n",
            "Specific ['Sunny' 'Warm' 'Normal' 'Strong' 'Warm' 'Same' 'Y']\n",
            "General [['?', '?', '?', '?', '?', '?', '?'], ['?', '?', '?', '?', '?', '?', '?'], ['?', '?', '?', '?', '?', '?', '?'], ['?', '?', '?', '?', '?', '?', '?'], ['?', '?', '?', '?', '?', '?', '?'], ['?', '?', '?', '?', '?', '?', '?'], ['?', '?', '?', '?', '?', '?', '?']]\n",
            "Specific ['Sunny' 'Warm' 'Normal' 'Strong' 'Warm' 'Same' 'Y']\n",
            " steps of Candidate Elimination Algorithm 1\n",
            "Specific ['Sunny' 'Warm' 'Normal' 'Strong' 'Warm' 'Same' 'Y']\n",
            "General [['?', '?', '?', '?', '?', '?', '?'], ['?', '?', '?', '?', '?', '?', '?'], ['?', '?', '?', '?', '?', '?', '?'], ['?', '?', '?', '?', '?', '?', '?'], ['?', '?', '?', '?', '?', '?', '?'], ['?', '?', '?', '?', '?', '?', '?'], ['?', '?', '?', '?', '?', '?', '?']]\n",
            "Specific ['Sunny' 'Warm' '?' 'Strong' 'Warm' 'Same' 'Y']\n",
            " steps of Candidate Elimination Algorithm 2\n",
            "Specific ['Sunny' 'Warm' '?' 'Strong' 'Warm' 'Same' 'Y']\n",
            "General [['?', '?', '?', '?', '?', '?', '?'], ['?', '?', '?', '?', '?', '?', '?'], ['?', '?', '?', '?', '?', '?', '?'], ['?', '?', '?', '?', '?', '?', '?'], ['?', '?', '?', '?', '?', '?', '?'], ['?', '?', '?', '?', '?', '?', '?'], ['?', '?', '?', '?', '?', '?', '?']]\n",
            "Specific ['Sunny' 'Warm' '?' 'Strong' 'Warm' 'Same' 'Y']\n",
            " steps of Candidate Elimination Algorithm 3\n",
            "Specific ['Sunny' 'Warm' '?' 'Strong' 'Warm' 'Same' 'Y']\n",
            "General [['Sunny', '?', '?', '?', '?', '?', '?'], ['?', 'Warm', '?', '?', '?', '?', '?'], ['?', '?', '?', '?', '?', '?', '?'], ['?', '?', '?', '?', '?', '?', '?'], ['?', '?', '?', '?', '?', '?', '?'], ['?', '?', '?', '?', '?', 'Same', '?'], ['?', '?', '?', '?', '?', '?', 'Y']]\n",
            "Specific ['Sunny' 'Warm' '?' 'Strong' '?' '?' 'Y']\n",
            " steps of Candidate Elimination Algorithm 4\n",
            "Specific ['Sunny' 'Warm' '?' 'Strong' '?' '?' 'Y']\n",
            "General [['Sunny', '?', '?', '?', '?', '?', '?'], ['?', 'Warm', '?', '?', '?', '?', '?'], ['?', '?', '?', '?', '?', '?', '?'], ['?', '?', '?', '?', '?', '?', '?'], ['?', '?', '?', '?', '?', '?', '?'], ['?', '?', '?', '?', '?', '?', '?'], ['?', '?', '?', '?', '?', '?', 'Y']]\n",
            "Final Specific_h:\n",
            "['Sunny' 'Warm' '?' 'Strong' '?' '?' 'Y']\n",
            "Final General_h:\n",
            "[['Sunny', '?', '?', '?', '?', '?', '?'], ['?', 'Warm', '?', '?', '?', '?', '?'], ['?', '?', '?', '?', '?', '?', '?'], ['?', '?', '?', '?', '?', '?', '?'], ['?', '?', '?', '?', '?', '?', '?'], ['?', '?', '?', '?', '?', '?', '?'], ['?', '?', '?', '?', '?', '?', 'Y']]\n"
          ]
        }
      ]
    },
    {
      "cell_type": "code",
      "source": [],
      "metadata": {
        "id": "kDuL75PAJThR"
      },
      "execution_count": null,
      "outputs": []
    }
  ]
}